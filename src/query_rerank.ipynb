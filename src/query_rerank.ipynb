{
 "cells": [
  {
   "cell_type": "code",
   "execution_count": 5,
   "metadata": {},
   "outputs": [],
   "source": [
    "import pandas as pd\n",
    "import pickle\n",
    "from rank_bm25 import BM25Okapi\n",
    "from transformers import AutoTokenizer, AutoModelForSequenceClassification, Trainer, TrainingArguments\n",
    "from datasets import Dataset\n",
    "from sentence_transformers import SentenceTransformer, util\n",
    "import torch\n",
    "from nltk.tokenize import word_tokenize\n",
    "import nltk"
   ]
  },
  {
   "cell_type": "code",
   "execution_count": 6,
   "metadata": {},
   "outputs": [],
   "source": [
    "df = pd.read_csv('lcr_input_final.csv')\n",
    "abstracts = list(set(df['abstract']))"
   ]
  },
  {
   "cell_type": "code",
   "execution_count": 7,
   "metadata": {},
   "outputs": [
    {
     "name": "stderr",
     "output_type": "stream",
     "text": [
      "[nltk_data] Downloading package punkt to\n",
      "[nltk_data]     /Users/borankahraman/nltk_data...\n",
      "[nltk_data]   Package punkt is already up-to-date!\n",
      "No sentence-transformers model found with name /Users/borankahraman/ITU/lcr/lcr_yeni/fine-tuned-scincl-2. Creating a new one with MEAN pooling.\n"
     ]
    }
   ],
   "source": [
    "nltk.download('punkt')\n",
    "\n",
    "# Prepare the BM25 model\n",
    "tokenized_abstracts = [word_tokenize(str(abstract)) for abstract in abstracts]\n",
    "bm25 = BM25Okapi(tokenized_abstracts)\n",
    "\n",
    "\n",
    "scincl = SentenceTransformer('/Users/borankahraman/ITU/lcr/lcr_yeni/fine-tuned-scincl-2')"
   ]
  },
  {
   "cell_type": "code",
   "execution_count": 8,
   "metadata": {},
   "outputs": [],
   "source": [
    "# Query and rerank function\n",
    "def query_and_rerank(query, bm25, scincl_model, top_k=10):\n",
    "    # Tokenize the query\n",
    "    tokenized_query = query.split()\n",
    "    \n",
    "    # Get BM25 top_k results\n",
    "    bm25_scores = bm25.get_scores(tokenized_query)\n",
    "    top_indices = bm25_scores.argsort()[-top_k:][::-1]\n",
    "    top_abstracts = [abstracts[i] for i in top_indices]\n",
    "\n",
    "    # Encode the query and abstracts\n",
    "    query_embedding = scincl_model.encode(query, convert_to_tensor=True)\n",
    "    abstract_embeddings = scincl_model.encode(top_abstracts, convert_to_tensor=True)\n",
    "    \n",
    "    # Compute cosine similarities\n",
    "    cosine_scores = util.pytorch_cos_sim(query_embedding, abstract_embeddings)[0]\n",
    "    \n",
    "    # Sort by similarity scores\n",
    "    sorted_indices = torch.argsort(cosine_scores, descending=True)\n",
    "    \n",
    "    # Collect the top 10 similar abstracts\n",
    "    reranked_top_abstracts = [top_abstracts[i] for i in sorted_indices[:10]]\n",
    "\n",
    "    return reranked_top_abstracts\n",
    "\n",
    "# Example query\n",
    "query = \"The political system of a country defines the set of formal legal institutions that constitute a government or a state and establishes the distribution of power and resources among its citizens and government officials.\"\n",
    "\n",
    "# Get the most suitable abstract for the query\n",
    "most_suitable_abstract = query_and_rerank(query, bm25, scincl)\n"
   ]
  },
  {
   "cell_type": "code",
   "execution_count": 9,
   "metadata": {},
   "outputs": [],
   "source": [
    "df = pd.read_csv('eval_dataset.csv')"
   ]
  },
  {
   "cell_type": "code",
   "execution_count": 10,
   "metadata": {},
   "outputs": [],
   "source": [
    "context_l = df['context'].tolist()\n",
    "eval_abstract = df['abstract'].tolist()"
   ]
  },
  {
   "cell_type": "code",
   "execution_count": 27,
   "metadata": {},
   "outputs": [],
   "source": [
    "tp_1 = 0\n",
    "tp_5 = 0\n",
    "tp_10 = 0"
   ]
  },
  {
   "cell_type": "code",
   "execution_count": 28,
   "metadata": {},
   "outputs": [
    {
     "name": "stdout",
     "output_type": "stream",
     "text": [
      "Precision @ 1: 0.021806853582554516\n",
      "Precision @ 5: 0.11682242990654206\n",
      "Precision @ 10: 0.2071651090342679\n"
     ]
    }
   ],
   "source": [
    "# Evaluate the model by calculating precision@1, precision@5, and precision@10\n",
    "\n",
    "for i in range(len(context_l)):\n",
    "    most_suitable_abstracts = query_and_rerank(context_l[i], bm25, scincl)\n",
    "\n",
    "    most_suitable_abstract = most_suitable_abstracts[0]\n",
    "\n",
    "    if eval_abstract[i] == most_suitable_abstract:\n",
    "        tp_1 += 1\n",
    "    \n",
    "    if eval_abstract[i] in most_suitable_abstracts[:5]:\n",
    "        tp_5 += 1\n",
    "\n",
    "    if eval_abstract[i] in most_suitable_abstracts:\n",
    "        tp_10 += 1\n",
    "\n",
    "query_count = len(context_l)\n",
    "\n",
    "print(f\"Precision @ 1: {tp_1/query_count}\")\n",
    "print(f\"Precision @ 5: {tp_5/query_count}\")\n",
    "print(f\"Precision @ 10: {tp_10/query_count}\")"
   ]
  },
  {
   "cell_type": "code",
   "execution_count": 38,
   "metadata": {},
   "outputs": [
    {
     "name": "stdout",
     "output_type": "stream",
     "text": [
      "MRR: 0.06262671215942245\n"
     ]
    }
   ],
   "source": [
    "# Calculate MRR\n",
    "\n",
    "mrr = 0\n",
    "\n",
    "for i in range(len(context_l)):\n",
    "    most_suitable_abstracts = query_and_rerank(context_l[i], bm25, scincl)\n",
    "\n",
    "    if eval_abstract[i] in most_suitable_abstracts:\n",
    "        mrr += 1/(most_suitable_abstracts.index(eval_abstract[i]) + 1) \n",
    "        \n",
    "\n",
    "print(f\"MRR: {mrr/query_count}\")"
   ]
  }
 ],
 "metadata": {
  "kernelspec": {
   "display_name": "Python 3",
   "language": "python",
   "name": "python3"
  },
  "language_info": {
   "codemirror_mode": {
    "name": "ipython",
    "version": 3
   },
   "file_extension": ".py",
   "mimetype": "text/x-python",
   "name": "python",
   "nbconvert_exporter": "python",
   "pygments_lexer": "ipython3",
   "version": "3.9.6"
  }
 },
 "nbformat": 4,
 "nbformat_minor": 2
}
