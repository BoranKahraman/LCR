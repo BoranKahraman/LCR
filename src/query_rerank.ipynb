{
 "cells": [
  {
   "cell_type": "code",
   "execution_count": 1,
   "metadata": {},
   "outputs": [
    {
     "name": "stderr",
     "output_type": "stream",
     "text": [
      "/Library/Python/3.9/site-packages/tqdm/auto.py:21: TqdmWarning: IProgress not found. Please update jupyter and ipywidgets. See https://ipywidgets.readthedocs.io/en/stable/user_install.html\n",
      "  from .autonotebook import tqdm as notebook_tqdm\n"
     ]
    },
    {
     "name": "stdout",
     "output_type": "stream",
     "text": [
      "'NoneType' object has no attribute 'cadam32bit_grad_fp32'\n"
     ]
    },
    {
     "name": "stderr",
     "output_type": "stream",
     "text": [
      "/Users/borankahraman/Library/Python/3.9/lib/python/site-packages/bitsandbytes/cextension.py:34: UserWarning: The installed version of bitsandbytes was compiled without GPU support. 8-bit optimizers, 8-bit multiplication, and GPU quantization are unavailable.\n",
      "  warn(\"The installed version of bitsandbytes was compiled without GPU support. \"\n"
     ]
    }
   ],
   "source": [
    "import pandas as pd\n",
    "import pickle\n",
    "from rank_bm25 import BM25Okapi\n",
    "from transformers import AutoTokenizer, AutoModelForSequenceClassification, Trainer, TrainingArguments\n",
    "from datasets import Dataset\n",
    "from sentence_transformers import SentenceTransformer, util\n",
    "import torch"
   ]
  },
  {
   "cell_type": "code",
   "execution_count": 2,
   "metadata": {},
   "outputs": [
    {
     "name": "stderr",
     "output_type": "stream",
     "text": [
      "No sentence-transformers model found with name /Users/borankahraman/ITU/lcr/lcr_yeni/fine-tuned-scincl. Creating a new one with MEAN pooling.\n"
     ]
    }
   ],
   "source": [
    "# Load the abstracts from the pickle file\n",
    "with open('article_abstracts_quoted.pkl', 'rb') as f:\n",
    "    abstracts = pickle.load(f)\n",
    "\n",
    "# Prepare the BM25 model\n",
    "tokenized_corpus = [abstract.split() for abstract in abstracts]\n",
    "bm25 = BM25Okapi(tokenized_corpus)\n",
    "doc2vec\n",
    "\n",
    "scincl = SentenceTransformer('/Users/borankahraman/ITU/lcr/lcr_yeni/fine-tuned-scincl')"
   ]
  },
  {
   "cell_type": "code",
   "execution_count": 3,
   "metadata": {},
   "outputs": [
    {
     "name": "stdout",
     "output_type": "stream",
     "text": [
      "\n",
      "Federal State, being part of governmental communities, houses two forms of states. These are \"federal state\" and \"federated states\". Federal state is also called \"federation\". Federation as a governmental system is accepted and implemented by many states all over the world. And federalism is a political system which emerged as a result of the organisation of federal state, and this system have a series of pecularities. In particular, when a mention is made of federalism, this calls to mind a sharing-out of govermental powers between federal state and federated states. And, on the other hand, in decentralization, some of the administrative and political powers are shared with the authorities which are not part of the central administrative organization. Decentralization involves two aspects, a political one and an administrative one. Both in federalism and decentralization, the governmental powers are shared between the central government and local govermental units. However, as there are significant and distinguishable differences between them, these systems are distinct from each other.\n",
      "\n"
     ]
    }
   ],
   "source": [
    "\n",
    "# Query and rerank function\n",
    "def query_and_rerank(query, bm25, scincl_model, top_k=10):\n",
    "    # Tokenize the query\n",
    "    tokenized_query = query.split()\n",
    "    \n",
    "    # Get BM25 top_k results\n",
    "    bm25_scores = bm25.get_scores(tokenized_query)\n",
    "    top_indices = bm25_scores.argsort()[-top_k:][::-1]\n",
    "    top_abstracts = [abstracts[i] for i in top_indices]\n",
    "    \n",
    "    # Encode the query and abstracts\n",
    "    query_embedding = scincl_model.encode(query, convert_to_tensor=True)\n",
    "    abstract_embeddings = scincl_model.encode(top_abstracts, convert_to_tensor=True)\n",
    "    \n",
    "    # Compute cosine similarities\n",
    "    cosine_scores = util.pytorch_cos_sim(query_embedding, abstract_embeddings)\n",
    "    \n",
    "    # Get the most similar abstract\n",
    "    top_result_idx = torch.argmax(cosine_scores)\n",
    "    \n",
    "    return top_abstracts[top_result_idx]\n",
    "\n",
    "# Example query\n",
    "query = \"The political system of a country defines the set of formal legal institutions that constitute a government or a state and establishes the distribution of power and resources among its citizens and government officials.\"\n",
    "\n",
    "# Get the most suitable abstract for the query\n",
    "most_suitable_abstract = query_and_rerank(query, bm25, scincl)\n",
    "print(most_suitable_abstract)"
   ]
  }
 ],
 "metadata": {
  "kernelspec": {
   "display_name": "Python 3",
   "language": "python",
   "name": "python3"
  },
  "language_info": {
   "codemirror_mode": {
    "name": "ipython",
    "version": 3
   },
   "file_extension": ".py",
   "mimetype": "text/x-python",
   "name": "python",
   "nbconvert_exporter": "python",
   "pygments_lexer": "ipython3",
   "version": "3.9.6"
  }
 },
 "nbformat": 4,
 "nbformat_minor": 2
}
