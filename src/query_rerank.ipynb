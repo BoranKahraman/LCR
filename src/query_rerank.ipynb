{
 "cells": [
  {
   "cell_type": "code",
   "execution_count": 1,
   "metadata": {},
   "outputs": [
    {
     "name": "stderr",
     "output_type": "stream",
     "text": [
      "/Library/Python/3.9/site-packages/tqdm/auto.py:21: TqdmWarning: IProgress not found. Please update jupyter and ipywidgets. See https://ipywidgets.readthedocs.io/en/stable/user_install.html\n",
      "  from .autonotebook import tqdm as notebook_tqdm\n",
      "/Users/borankahraman/Library/Python/3.9/lib/python/site-packages/bitsandbytes/cextension.py:34: UserWarning: The installed version of bitsandbytes was compiled without GPU support. 8-bit optimizers, 8-bit multiplication, and GPU quantization are unavailable.\n",
      "  warn(\"The installed version of bitsandbytes was compiled without GPU support. \"\n"
     ]
    },
    {
     "name": "stdout",
     "output_type": "stream",
     "text": [
      "'NoneType' object has no attribute 'cadam32bit_grad_fp32'\n"
     ]
    }
   ],
   "source": [
    "import pandas as pd\n",
    "import pickle\n",
    "from rank_bm25 import BM25Okapi\n",
    "from transformers import AutoTokenizer, AutoModelForSequenceClassification, Trainer, TrainingArguments\n",
    "from datasets import Dataset\n",
    "from sentence_transformers import SentenceTransformer, util\n",
    "import torch\n",
    "from nltk.tokenize import word_tokenize\n",
    "import nltk\n",
    "import numpy as np"
   ]
  },
  {
   "cell_type": "code",
   "execution_count": 2,
   "metadata": {},
   "outputs": [],
   "source": [
    "df = pd.read_csv('lcr_input_final.csv')\n",
    "abstracts = list(set(df['abstract']))"
   ]
  },
  {
   "cell_type": "code",
   "execution_count": 3,
   "metadata": {},
   "outputs": [
    {
     "name": "stderr",
     "output_type": "stream",
     "text": [
      "[nltk_data] Downloading package punkt to\n",
      "[nltk_data]     /Users/borankahraman/nltk_data...\n",
      "[nltk_data]   Package punkt is already up-to-date!\n",
      "No sentence-transformers model found with name /Users/borankahraman/ITU/lcr/lcr_yeni/fine-tuned-scincl-2. Creating a new one with MEAN pooling.\n"
     ]
    }
   ],
   "source": [
    "nltk.download('punkt')\n",
    "\n",
    "# Prepare the BM25 model\n",
    "tokenized_abstracts = [word_tokenize(str(abstract)) for abstract in abstracts]\n",
    "bm25 = BM25Okapi(tokenized_abstracts)\n",
    "\n",
    "\n",
    "scincl = SentenceTransformer('/Users/borankahraman/ITU/lcr/lcr_yeni/fine-tuned-scincl-2')"
   ]
  },
  {
   "cell_type": "code",
   "execution_count": 4,
   "metadata": {},
   "outputs": [],
   "source": [
    "# Query and rerank function\n",
    "def query_and_rerank(query, bm25, scincl_model, top_k=10):\n",
    "    # Tokenize the query\n",
    "    tokenized_query = query.split()\n",
    "    \n",
    "    # Get BM25 top_k results\n",
    "    bm25_scores = bm25.get_scores(tokenized_query)\n",
    "    top_indices = bm25_scores.argsort()[-top_k:][::-1]\n",
    "    top_abstracts = [abstracts[i] for i in top_indices]\n",
    "\n",
    "    # Encode the query and abstracts\n",
    "    query_embedding = scincl_model.encode(query, convert_to_tensor=True)\n",
    "    abstract_embeddings = scincl_model.encode(top_abstracts, convert_to_tensor=True)\n",
    "    \n",
    "    # Compute cosine similarities\n",
    "    cosine_scores = util.pytorch_cos_sim(query_embedding, abstract_embeddings)[0]\n",
    "    \n",
    "    # Sort by similarity scores\n",
    "    sorted_indices = torch.argsort(cosine_scores, descending=True)\n",
    "    \n",
    "    # Collect the top 10 similar abstracts\n",
    "    reranked_top_abstracts = [top_abstracts[i] for i in sorted_indices[:10]]\n",
    "\n",
    "    return reranked_top_abstracts\n",
    "\n",
    "# Example query\n",
    "query = \"The political system of a country defines the set of formal legal institutions that constitute a government or a state and establishes the distribution of power and resources among its citizens and government officials.\"\n",
    "\n",
    "# Get the most suitable abstract for the query\n",
    "most_suitable_abstract = query_and_rerank(query, bm25, scincl)\n"
   ]
  },
  {
   "cell_type": "code",
   "execution_count": 5,
   "metadata": {},
   "outputs": [],
   "source": [
    "df = pd.read_csv('eval_dataset.csv')"
   ]
  },
  {
   "cell_type": "code",
   "execution_count": 6,
   "metadata": {},
   "outputs": [],
   "source": [
    "context_l = df['context'].tolist()\n",
    "eval_abstract = df['abstract'].tolist()"
   ]
  },
  {
   "cell_type": "code",
   "execution_count": 7,
   "metadata": {},
   "outputs": [],
   "source": [
    "tp_3 = 0\n",
    "tp_5 = 0\n",
    "tp_10 = 0"
   ]
  },
  {
   "cell_type": "code",
   "execution_count": 8,
   "metadata": {},
   "outputs": [
    {
     "name": "stdout",
     "output_type": "stream",
     "text": [
      "Precision@3: 0.05451713395638629\n",
      "Precision@5: 0.11682242990654206\n",
      "Precision@10: 0.2071651090342679\n"
     ]
    }
   ],
   "source": [
    "# Evaluate the model by calculating precision@1, precision@5, and precision@10\n",
    "\n",
    "for i in range(len(context_l)):\n",
    "    most_suitable_abstracts = query_and_rerank(context_l[i], bm25, scincl)\n",
    "\n",
    "\n",
    "    if type(eval_abstract[i]) != str:\n",
    "        continue\n",
    "\n",
    "    if eval_abstract[i] in most_suitable_abstracts[:3]:\n",
    "        tp_3 += 1\n",
    "    \n",
    "    if eval_abstract[i] in most_suitable_abstracts[:5]:\n",
    "        tp_5 += 1\n",
    "\n",
    "    if eval_abstract[i] in most_suitable_abstracts:\n",
    "        tp_10 += 1\n",
    "\n",
    "query_count = len(context_l)\n",
    "\n",
    "print(f\"Precision@3: {tp_3/query_count}\")\n",
    "print(f\"Precision@5: {tp_5/query_count}\")\n",
    "print(f\"Precision@10: {tp_10/query_count}\")"
   ]
  },
  {
   "cell_type": "code",
   "execution_count": 9,
   "metadata": {},
   "outputs": [
    {
     "name": "stdout",
     "output_type": "stream",
     "text": [
      "MRR@3: 0.035565939771547254\n",
      "MRR@5: 0.05005192107995845\n",
      "MRR@10: 0.06262671215942245\n"
     ]
    }
   ],
   "source": [
    "# Calculate MRR\n",
    "\n",
    "mrr_3 = 0\n",
    "mrr_5 = 0\n",
    "mrr_10 = 0\n",
    "\n",
    "for i in range(len(context_l)):\n",
    "    most_suitable_abstracts = query_and_rerank(context_l[i], bm25, scincl)\n",
    "\n",
    "    if type(eval_abstract[i]) != str:\n",
    "        continue\n",
    "\n",
    "    if eval_abstract[i] in most_suitable_abstracts:\n",
    "        mrr_10 += 1/(most_suitable_abstracts.index(eval_abstract[i]) + 1) \n",
    "\n",
    "    if eval_abstract[i] in most_suitable_abstracts[:5]:\n",
    "        mrr_5 += 1/(most_suitable_abstracts.index(eval_abstract[i]) + 1) \n",
    "    \n",
    "    if eval_abstract[i] in most_suitable_abstracts[:3]:\n",
    "        mrr_3 += 1/(most_suitable_abstracts.index(eval_abstract[i]) + 1) \n",
    "        \n",
    "\n",
    "print(f\"MRR@3: {mrr_3/query_count}\")\n",
    "print(f\"MRR@5: {mrr_5/query_count}\")\n",
    "print(f\"MRR@10: {mrr_10/query_count}\")"
   ]
  },
  {
   "cell_type": "code",
   "execution_count": 10,
   "metadata": {},
   "outputs": [
    {
     "name": "stdout",
     "output_type": "stream",
     "text": [
      "NDCG@3: 0.04040533845683183\n",
      "NDCG@5: 0.06628311074840784\n",
      "NDCG@10: 0.09602397468168575\n"
     ]
    }
   ],
   "source": [
    "# Calculate NDCG@10\n",
    "# Define a function to calculate DCG@K\n",
    "\n",
    "ndcg_values_3 = []\n",
    "ndcg_values_5 = []\n",
    "ndcg_values_10 = []\n",
    "\n",
    "\n",
    "def dcg_at_k(relevances, k):\n",
    "    relevances = np.asfarray(relevances)[:k]\n",
    "    if relevances.size:\n",
    "        return np.sum(relevances / np.log2(np.arange(2, relevances.size + 2)))\n",
    "    return 0\n",
    "\n",
    "# Define a function to calculate NDCG@K\n",
    "def ndcg_at_k(relevances, k):\n",
    "    dcg_max = dcg_at_k(sorted(relevances, reverse=True), k)  # Calculate IDCG@K\n",
    "    if not dcg_max:\n",
    "        return 0.0\n",
    "    return dcg_at_k(relevances, k) / dcg_max\n",
    "\n",
    "for i in range(len(context_l)):\n",
    "    most_suitable_abstracts = query_and_rerank(context_l[i], bm25, scincl)\n",
    "    relevant = [0 for i in range(10)]\n",
    "\n",
    "    if type(eval_abstract[i]) != str:\n",
    "        continue\n",
    "\n",
    "    if eval_abstract[i] in most_suitable_abstracts:\n",
    "        index = most_suitable_abstracts.index(eval_abstract[i])\n",
    "        relevant[index] = 1\n",
    "\n",
    "        ndcg = ndcg_at_k(relevant, 10)\n",
    "        ndcg_values_10.append(ndcg)\n",
    "    \n",
    "    if eval_abstract[i] in most_suitable_abstracts[:5]:\n",
    "        index = most_suitable_abstracts.index(eval_abstract[i])\n",
    "        relevant[index] = 1\n",
    "\n",
    "        ndcg = ndcg_at_k(relevant, 5)\n",
    "        ndcg_values_5.append(ndcg)\n",
    "    \n",
    "    if eval_abstract[i] in most_suitable_abstracts[:3]:\n",
    "        index = most_suitable_abstracts.index(eval_abstract[i])\n",
    "        relevant[index] = 1\n",
    "\n",
    "        ndcg = ndcg_at_k(relevant, 3)\n",
    "        ndcg_values_3.append(ndcg)\n",
    "\n",
    "print(f\"NDCG@3: {sum(ndcg_values_3)/query_count}\")\n",
    "print(f\"NDCG@5: {sum(ndcg_values_5)/query_count}\")\n",
    "print(f\"NDCG@10: {sum(ndcg_values_10)/query_count}\")"
   ]
  }
 ],
 "metadata": {
  "kernelspec": {
   "display_name": "Python 3",
   "language": "python",
   "name": "python3"
  },
  "language_info": {
   "codemirror_mode": {
    "name": "ipython",
    "version": 3
   },
   "file_extension": ".py",
   "mimetype": "text/x-python",
   "name": "python",
   "nbconvert_exporter": "python",
   "pygments_lexer": "ipython3",
   "version": "3.9.6"
  }
 },
 "nbformat": 4,
 "nbformat_minor": 2
}
