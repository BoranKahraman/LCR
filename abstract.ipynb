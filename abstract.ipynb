{
 "cells": [
  {
   "cell_type": "code",
   "execution_count": 15,
   "metadata": {},
   "outputs": [],
   "source": [
    "from bs4 import BeautifulSoup\n",
    "import os\n",
    "import pickle\n",
    "from Levenshtein import distance\n",
    "from fuzzywuzzy import fuzz\n",
    "import itertools\n",
    "import copy\n",
    "import pandas as pd"
   ]
  },
  {
   "cell_type": "code",
   "execution_count": 16,
   "metadata": {},
   "outputs": [
    {
     "name": "stderr",
     "output_type": "stream",
     "text": [
      "/var/folders/xz/3gvmrsm13qvd7tb6d1hf7mgh0000gn/T/ipykernel_1519/1620893237.py:13: XMLParsedAsHTMLWarning: It looks like you're parsing an XML document using an HTML parser. If this really is an HTML document (maybe it's XHTML?), you can ignore or filter this warning. If it's XML, you should know that using an XML parser will be more reliable. To parse this document as XML, make sure you have the lxml package installed, and pass the keyword argument `features=\"xml\"` into the BeautifulSoup constructor.\n",
      "  soup = BeautifulSoup(tei, 'lxml')\n"
     ]
    }
   ],
   "source": [
    "quoted_abstracts = []\n",
    "folder_path_0 = 'quoted_xmls'\n",
    "\n",
    "for file in os.listdir(folder_path_0):\n",
    "    file_path = os.path.join(folder_path_0, file)\n",
    "    \n",
    "    # file adı .DS_Store ise devam et\n",
    "    if file == '.DS_Store':\n",
    "        continue\n",
    "                \n",
    "        # tei.xml dosyasını aç ve BeautifulSoup objesine dönüştür\n",
    "    with open(file_path, 'r') as tei:\n",
    "        soup = BeautifulSoup(tei, 'lxml')\n",
    "            \n",
    "    # metin içi refaransları bul\n",
    "    abstract_tag = soup.find('abstract')\n",
    "    abstract = abstract_tag.get_text() if abstract_tag else ''\n",
    "\n",
    "    quoted_abstracts.append(abstract)"
   ]
  },
  {
   "cell_type": "code",
   "execution_count": 19,
   "metadata": {},
   "outputs": [],
   "source": [
    "quoted_abstracts = list(set(quoted_abstracts))"
   ]
  },
  {
   "cell_type": "code",
   "execution_count": 20,
   "metadata": {},
   "outputs": [],
   "source": [
    "# Define the file path\n",
    "file_path = 'article_abstracts_quoted.pkl'\n",
    "\n",
    "# Dump the list to a pickle file\n",
    "with open(file_path, 'wb') as file:\n",
    "    pickle.dump(quoted_abstracts, file)"
   ]
  }
 ],
 "metadata": {
  "kernelspec": {
   "display_name": "Python 3",
   "language": "python",
   "name": "python3"
  },
  "language_info": {
   "codemirror_mode": {
    "name": "ipython",
    "version": 3
   },
   "file_extension": ".py",
   "mimetype": "text/x-python",
   "name": "python",
   "nbconvert_exporter": "python",
   "pygments_lexer": "ipython3",
   "version": "3.9.6"
  }
 },
 "nbformat": 4,
 "nbformat_minor": 2
}
